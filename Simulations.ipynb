{
 "cells": [
  {
   "cell_type": "code",
   "execution_count": 1,
   "metadata": {},
   "outputs": [],
   "source": [
    "%matplotlib inline\n",
    "\n",
    "import numpy as np\n",
    "import matplotlib.pyplot as plt\n",
    "from math import *\n",
    "\n",
    "# Using PyTorch to run the evolutionary simulations in parallel on the GPU\n",
    "import torch\n",
    "import torch.nn as nn\n",
    "from torch.nn import functional as F\n",
    "from torch.nn import Parameter\n",
    "import torch.optim\n",
    "from torch.autograd import Variable\n",
    "\n",
    "import IPython.display as display\n",
    "import time\n",
    "\n",
    "import copy\n",
    "\n",
    "# For fast conversion between NumPy and PyTorch on GPU\n",
    "def tovar(x):\n",
    "    return torch.FloatTensor(x).cuda()\n",
    "\n",
    "def toivar(x):\n",
    "    return torch.LongTensor(x).cuda()"
   ]
  },
  {
   "cell_type": "code",
   "execution_count": 2,
   "metadata": {},
   "outputs": [],
   "source": [
    "# Instantiates a batch of evolutionary simulations. \n",
    "#\n",
    "# pop - Population size \n",
    "# geno_size - Length of the genome\n",
    "# Nsys - Number of simulations in the batch\n",
    "# fraction - Corresponds to $\\Gamma$ in the paper, this is how many bits on average are coding in a given environment\n",
    "\n",
    "class EvoSystem():\n",
    "    def __init__(self, pop=200, geno_size = 20, Nsys = 1000, fraction = 0.5):\n",
    "        # Initialize a random environment vector and mask vector\n",
    "        self.target = tovar(np.random.randint(2, size=(Nsys, geno_size)))\n",
    "        self.target_mask = tovar(1*(np.random.rand(Nsys, geno_size)<fraction))\n",
    "        \n",
    "        # Start the population with all organisms at a particular random binary string\n",
    "        self.population = torch.randint(2, (Nsys, 1, geno_size)).cuda().float()\n",
    "        self.population = self.population.expand(Nsys, pop, geno_size)\n",
    "        \n",
    "        self.geno_size = geno_size\n",
    "        self.fraction = fraction\n",
    "    \n",
    "    # Generate a new environment\n",
    "    def new_env(self):\n",
    "        self.target = tovar(np.random.randint(2, size=(self.target.size(0), self.geno_size)))\n",
    "        self.target_mask = tovar(1*(np.random.rand(self.target.size(0), self.geno_size)<self.fraction))\n",
    "    \n",
    "    # Generate mutations of a population 'x' with per-base mutation rate mu\n",
    "    def mutate(self, x, mu):\n",
    "        # Each base in each organism has a random number uniformly drawn from [0,1]\n",
    "        moves = torch.zeros(x.size(0), x.size(1), x.size(2)).cuda()\n",
    "        moves.uniform_()\n",
    "        \n",
    "        # This is then compared against the mutation rate to give a mask for where mutations occur\n",
    "        moves = torch.le(moves, mu).float()\n",
    "        \n",
    "        # Where mutations occur, the base is flipped. Otherwise it's the same.\n",
    "        x = (1-moves)*x + moves*(1-x)\n",
    "        \n",
    "        return x\n",
    "    \n",
    "    # Evaluate the fitness of each organism in the population\n",
    "    def fitness(self):\n",
    "        # Find how many coding bits are different than the target in each organism\n",
    "        err = (self.target_mask.unsqueeze(1)*torch.abs(self.population-self.target.unsqueeze(1))).sum(2)\n",
    "        \n",
    "        # The fitness is 1 + coding length - differences\n",
    "        maxfit = torch.sum(self.target_mask.unsqueeze(1),2)\n",
    "        matches = maxfit - err\n",
    "        \n",
    "        return 1+matches\n",
    "    \n",
    "    # Step the population once with per-base mutation rate mu\n",
    "    def step(self, mu = 0):\n",
    "        # Get the fitnesses of the current generation\n",
    "        fitness = self.fitness()\n",
    "        \n",
    "        # The new generation is created by sampling from the current generation proportional to fitness,\n",
    "        # with replacement. So something with a fitness 2 has twice the chance of filling a given spot in the\n",
    "        # next generation as something with a fitness 1.\n",
    "        #\n",
    "        # Multinomial gets us the indices of the parents for each child spot\n",
    "        pop_idx = torch.multinomial(fitness, self.population.size(1), replacement=True)\n",
    "        \n",
    "        # Then we gather those parents from the current generation to make the new generation\n",
    "        pop_idx = pop_idx.unsqueeze(2)\n",
    "        pop_idx = pop_idx.expand(pop_idx.size(0), pop_idx.size(1), self.geno_size)\n",
    "        newpop = torch.gather(self.population, 1, pop_idx)\n",
    "        \n",
    "        # Finally, we mutate the new generation and replace the old\n",
    "        self.population = self.mutate(newpop, mu)\n",
    "        \n",
    "        return torch.mean(fitness).cpu().detach().item()"
   ]
  },
  {
   "cell_type": "code",
   "execution_count": 3,
   "metadata": {},
   "outputs": [],
   "source": [
    "# This is the main control code for the simulations. It takes the parameters and returns aggregated\n",
    "# data from 5000 runs at those parameters\n",
    "#\n",
    "# geno_size - Length of the genome\n",
    "# gens - Total number of generations to simulate in the run\n",
    "# pop - Population size\n",
    "# mu - Total mutation rate (expected mutations per generation per organism). This is converted internally to\n",
    "#      mutations per base\n",
    "# fraction - $\\Gamma$ parameter, environment information size\n",
    "# period - How frequently to oscillate between the environments. \n",
    "#       period = gens/2 is used for the 'slow' runs, while period=1 is used for the 'fast' runs\n",
    "\n",
    "def getData(geno_size=50, gens = 400, pop = 50, mu=0.1, fraction = 0.5, period = 20):\n",
    "    Nsys = 1000\n",
    "    \n",
    "    # We aren't going to use backprop, so this saves us some memory and computation\n",
    "    with torch.no_grad():\n",
    "        # Initialize storage for the results\n",
    "        ys1 = np.zeros((0, geno_size))\n",
    "        ysm1 = np.zeros((0, geno_size))\n",
    "        ys2 = np.zeros((0, geno_size))\n",
    "        ysm2 = np.zeros((0, geno_size))\n",
    "        xs = np.zeros((0, geno_size, gens))\n",
    "        fits = np.zeros((gens))\n",
    "        \n",
    "        # Do 5000 runs total\n",
    "        for j in range(5000//Nsys):\n",
    "            evo = EvoSystem(pop = pop, geno_size = geno_size, Nsys = Nsys, fraction = fraction)\n",
    "            \n",
    "            # Burn in period to make a population distributed according to the mutation dynamics\n",
    "            for i in range(200):\n",
    "                evo.step(mu=mu/geno_size)\n",
    "            \n",
    "            # Set up the two environments we care about and record them in ys1 and ys2 (targets), ysm1 and ysm2 (masks)\n",
    "            evo.new_env()\n",
    "            e2 = evo.target.detach()\n",
    "            e2m = evo.target_mask.detach()\n",
    "            ys2 = np.concatenate([ys2, evo.target.cpu().detach().numpy()], axis=0)\n",
    "            ysm2 = np.concatenate([ysm2, evo.target_mask.cpu().detach().numpy()], axis=0)\n",
    "\n",
    "            evo.new_env()\n",
    "            e1 = evo.target.detach()\n",
    "            e1m = evo.target_mask.detach()\n",
    "            ys1 = np.concatenate([ys1, evo.target.cpu().detach().numpy()], axis=0)\n",
    "            ysm1 = np.concatenate([ysm1, evo.target_mask.cpu().detach().numpy()], axis=0)            \n",
    "            \n",
    "            seq = np.zeros((Nsys, geno_size, 0))\n",
    "            \n",
    "            # Step through the simulations\n",
    "            j = 0\n",
    "            for i in range(gens):\n",
    "                f = evo.step(mu=mu/geno_size)\n",
    "                fits[i] += f/(5000/Nsys)\n",
    "                \n",
    "                # Switch environments every period steps\n",
    "                if i%period == period-1:\n",
    "                    if j == 0:\n",
    "                        evo.target = e2\n",
    "                        evo.target_mask = e2m\n",
    "                        j = 1\n",
    "                    else:\n",
    "                        evo.target = e1\n",
    "                        evo.target_mask = e1m\n",
    "                        j = 0\n",
    "                \n",
    "                # Record the fraction of 1s at each base in the population\n",
    "                population = evo.population.cpu().detach().numpy()                    \n",
    "                pmu = np.mean(population[:,:,:],axis=1).reshape((Nsys, geno_size, 1))\n",
    "                seq = np.concatenate([seq, pmu], axis=2)\n",
    "                                                        \n",
    "            xs = np.concatenate([xs, seq], axis=0)\n",
    "\n",
    "    return xs, ys1, ysm1, ys2, ysm2, fits"
   ]
  },
  {
   "cell_type": "code",
   "execution_count": 4,
   "metadata": {},
   "outputs": [],
   "source": [
    "# Calculate the per-base mutual information via direct sampling\n",
    "# xs - Set of population histograms at a point in time\n",
    "# ys - Environmental vectors to check against corresponding to the populations in xs\n",
    "# ym - Environmental masks\n",
    "\n",
    "def fastMI(xs, ys, ym, BINS = 100):\n",
    "    lMI = 0\n",
    "    \n",
    "    for i in range(xs.shape[1]):\n",
    "        # Accumulate p(x), p(y), and p(x,y)\n",
    "        py = np.zeros(2) + 1e-64\n",
    "        \n",
    "        mask = ym[:,i]==1\n",
    "        xsm = np.clip(xs[mask,i]*BINS,0,BINS-1).astype(np.int32)\n",
    "        ysm = ys[mask,i].astype(np.int32)\n",
    "        \n",
    "        px, _ = np.histogram(xsm, bins=BINS)\n",
    "        pxy, _, _ = np.histogram2d(xsm, ysm, bins=[BINS,2])\n",
    "        px = px + 1e-64\n",
    "        pxy = pxy + 1e-64\n",
    "        py[1] = np.mean(ys) + 1e-64\n",
    "        py[0] = 1-py[1] + 1e-64\n",
    "        \n",
    "        py = py/np.sum(py)\n",
    "        px = px/np.sum(px)\n",
    "        pxy = pxy/np.sum(pxy)\n",
    "        \n",
    "        # Add to the mutual information per base\n",
    "        lMI += np.sum( pxy * np.log(pxy / (px[:,np.newaxis] * py[np.newaxis,:]))) / xs.shape[1]\n",
    "    return lMI"
   ]
  },
  {
   "cell_type": "code",
   "execution_count": 7,
   "metadata": {},
   "outputs": [],
   "source": [
    "# Save mutual information trajectories for a given set of parameters mu, $\\Gamma$, and period\n",
    "def getMIs(mu = 0.5, fraction = 0.5, period = 200, pop=200, doPop=False):\n",
    "    GENS = 400\n",
    "    \n",
    "    xs, ys1, ysm1, ys2, ysm2, fits = getData(gens=GENS, geno_size=50, pop=pop, mu=mu, fraction = fraction, period = period)\n",
    "    T = []\n",
    "    MI = []\n",
    "    MI2 = []\n",
    "\n",
    "    for t in range(0,GENS-1,1):\n",
    "        T.append(t)\n",
    "        MI.append(fastMI(xs[:,:,t], ys1, ysm1))\n",
    "        MI2.append(fastMI(xs[:,:,t], ys2, ysm2))\n",
    "\n",
    "        plt.clf()\n",
    "\n",
    "        plt.plot(T,MI)\n",
    "        plt.plot(T,MI2)\n",
    "\n",
    "        display.clear_output(wait=True)\n",
    "        display.display(plt.gcf())\n",
    "        time.sleep(0.01)    \n",
    "    \n",
    "    T = np.array(T)\n",
    "    T = T.reshape((T.shape[0], 1))\n",
    "    \n",
    "    maxMI = np.log(2)\n",
    "    MI = np.array(MI).reshape((T.shape[0], 1))/maxMI\n",
    "    MI2 = np.array(MI2).reshape((T.shape[0], 1))/maxMI\n",
    "    fits = fits[:-1].reshape((T.shape[0], 1))\n",
    "    data = np.concatenate([T,MI,MI2,fits], axis=1)\n",
    "    \n",
    "    # Save results in the appropriate directory for analysis\n",
    "    if doPop == False:\n",
    "        if period == 200:\n",
    "            np.savetxt(\"results/%.3f_%.3f.txt\" % (mu, fraction), data)\n",
    "        else:\n",
    "            np.savetxt(\"results_oscillate/%.3f_%.3f.txt\" % (mu, fraction), data)\n",
    "    else:\n",
    "        if period == 200:\n",
    "            np.savetxt(\"results/P%d.txt\" % (pop), data)\n",
    "        else:\n",
    "            np.savetxt(\"results_oscillate/P%d.txt\" % (pop), data)        "
   ]
  },
  {
   "cell_type": "markdown",
   "metadata": {},
   "source": [
    "## Slow variation simulations - $\\mu$"
   ]
  },
  {
   "cell_type": "code",
   "execution_count": null,
   "metadata": {},
   "outputs": [],
   "source": [
    "mus = [x for x in np.arange(0.1, 2.1, 0.1)] + [2.2, 2.4, 2.6, 2.8, 3.0, 3.2, 3.4, 3.6, 3.8, 4.0, 4.2, 4.4, 4.6, 4.8, 5.0, 5.2, 5.6, 6.0, 6.4]\n",
    "\n",
    "for x in mus:\n",
    "    getMIs(mu = x, fraction = 0.2, period = 200)"
   ]
  },
  {
   "cell_type": "markdown",
   "metadata": {},
   "source": [
    "## Slow variation simulations - $\\Gamma$"
   ]
  },
  {
   "cell_type": "code",
   "execution_count": null,
   "metadata": {},
   "outputs": [],
   "source": [
    "fracs = np.arange(0.05, 1.05, 0.05)\n",
    "\n",
    "for x in fracs:\n",
    "    getMIs(mu = 0.5, fraction = x, period = 200)"
   ]
  },
  {
   "cell_type": "markdown",
   "metadata": {},
   "source": [
    "## Fast variation simulations - $\\mu$"
   ]
  },
  {
   "cell_type": "code",
   "execution_count": null,
   "metadata": {},
   "outputs": [],
   "source": [
    "mus = [x for x in np.arange(0.1, 2.1, 0.1)] + [2.2, 2.4, 2.6, 2.8, 3.0, 3.2, 3.4, 3.6, 3.8, 4.0, 4.2, 4.4, 4.6, 4.8, 5.0, 5.2, 5.6, 6.0, 6.4]\n",
    "\n",
    "for x in mus:\n",
    "    getMIs(mu = x, fraction = 0.2, period = 1)"
   ]
  },
  {
   "cell_type": "markdown",
   "metadata": {},
   "source": [
    "## Fast variation simulations - $\\Gamma$"
   ]
  },
  {
   "cell_type": "code",
   "execution_count": null,
   "metadata": {},
   "outputs": [],
   "source": [
    "fracs = np.arange(0.05, 1.05, 0.05)\n",
    "\n",
    "for x in fracs:\n",
    "    getMIs(mu = 0.5, fraction =x, period = 1)"
   ]
  },
  {
   "cell_type": "markdown",
   "metadata": {},
   "source": [
    "## Population variation"
   ]
  },
  {
   "cell_type": "code",
   "execution_count": 8,
   "metadata": {},
   "outputs": [
    {
     "data": {
      "image/png": "[encoded data removed]",
      "text/plain": [
       "<Figure size 640x480 with 1 Axes>"
      ]
     },
     "metadata": {},
     "output_type": "display_data"
    },
    {
     "data": {
      "image/png": "[encoded data removed]",
      "text/plain": [
       "<Figure size 640x480 with 1 Axes>"
      ]
     },
     "metadata": {},
     "output_type": "display_data"
    }
   ],
   "source": [
    "pops = [10,20,30,40,60,80,100,120,140,160,180,200,280,320,400,500,600,800,1000]\n",
    "\n",
    "for p in pops:\n",
    "    getMIs(mu = 0.5, fraction = 0.2, period = 200, pop=p, doPop=True)\n",
    "    getMIs(mu = 0.5, fraction = 0.2, period = 1, pop=p, doPop=True)"
   ]
  },
  {
   "cell_type": "code",
   "execution_count": null,
   "metadata": {},
   "outputs": [],
   "source": []
  }
 ],
 "metadata": {
  "kernelspec": {
   "display_name": "Python 3",
   "language": "python",
   "name": "python3"
  },
  "language_info": {
   "codemirror_mode": {
    "name": "ipython",
    "version": 3
   },
   "file_extension": ".py",
   "mimetype": "text/x-python",
   "name": "python",
   "nbconvert_exporter": "python",
   "pygments_lexer": "ipython3",
   "version": "3.6.3"
  }
 },
 "nbformat": 4,
 "nbformat_minor": 2
}
